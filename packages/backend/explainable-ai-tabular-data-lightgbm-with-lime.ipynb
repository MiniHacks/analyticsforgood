{
 "cells": [
  {
   "cell_type": "code",
   "execution_count": 145,
   "metadata": {
    "_cell_guid": "b1076dfc-b9ad-4769-8c92-a6c4dae69d19",
    "_uuid": "8f2839f25d086af736a60e9eeb907d3b93b6e0e5",
    "execution": {
     "iopub.execute_input": "2021-04-15T04:54:56.368461Z",
     "iopub.status.busy": "2021-04-15T04:54:56.367670Z",
     "iopub.status.idle": "2021-04-15T04:54:57.476472Z",
     "shell.execute_reply": "2021-04-15T04:54:57.476983Z"
    },
    "papermill": {
     "duration": 1.139561,
     "end_time": "2021-04-15T04:54:57.477359",
     "exception": false,
     "start_time": "2021-04-15T04:54:56.337798",
     "status": "completed"
    },
    "tags": []
   },
   "outputs": [
    {
     "name": "stdout",
     "output_type": "stream",
     "text": [
      "./data\\Churn_Modelling.csv\n",
      "./data\\FY21 Planning Items.csv\n",
      "./data\\FY22_Planning_Items_Updated.csv\n",
      "./data\\Planning_Combined.csv\n"
     ]
    }
   ],
   "source": [
    "# This Python 3 environment comes with many helpful analytics libraries installed\n",
    "# It is defined by the kaggle/python Docker image: https://github.com/kaggle/docker-python\n",
    "# For example, here's several helpful packages to load\n",
    "\n",
    "import numpy as np # linear algebra\n",
    "import pandas as pd # data processing, CSV file I/O (e.g. pd.read_csv)\n",
    "import sklearn \n",
    "import pandas as pd\n",
    "import numpy as np\n",
    "import matplotlib.pyplot as plt\n",
    "import seaborn as sns\n",
    "\n",
    "# Input data files are available in the read-only \"../input/\" directory\n",
    "# For example, running this (by clicking run or pressing Shift+Enter) will list all files under the input directory\n",
    "\n",
    "import os\n",
    "for dirname, _, filenames in os.walk('./data'):\n",
    "    for filename in filenames:\n",
    "        print(os.path.join(dirname, filename))\n",
    "\n",
    "# You can write up to 20GB to the current directory (/kaggle/working/) that gets preserved as output when you create a version using \"Save & Run All\" \n",
    "# You can also write temporary files to /kaggle/temp/, but they won't be saved outside of the current session"
   ]
  },
  {
   "cell_type": "code",
   "execution_count": 146,
   "metadata": {
    "execution": {
     "iopub.execute_input": "2021-04-15T04:54:57.524131Z",
     "iopub.status.busy": "2021-04-15T04:54:57.523317Z",
     "iopub.status.idle": "2021-04-15T04:54:57.601341Z",
     "shell.execute_reply": "2021-04-15T04:54:57.601886Z"
    },
    "papermill": {
     "duration": 0.104024,
     "end_time": "2021-04-15T04:54:57.602095",
     "exception": false,
     "start_time": "2021-04-15T04:54:57.498071",
     "status": "completed"
    },
    "tags": []
   },
   "outputs": [
    {
     "data": {
      "text/html": [
       "<div>\n",
       "<style scoped>\n",
       "    .dataframe tbody tr th:only-of-type {\n",
       "        vertical-align: middle;\n",
       "    }\n",
       "\n",
       "    .dataframe tbody tr th {\n",
       "        vertical-align: top;\n",
       "    }\n",
       "\n",
       "    .dataframe thead th {\n",
       "        text-align: right;\n",
       "    }\n",
       "</style>\n",
       "<table border=\"1\" class=\"dataframe\">\n",
       "  <thead>\n",
       "    <tr style=\"text-align: right;\">\n",
       "      <th></th>\n",
       "      <th>Delivery Week</th>\n",
       "      <th>Producer Code</th>\n",
       "      <th>Product ID</th>\n",
       "      <th>Product</th>\n",
       "      <th>Quantity</th>\n",
       "      <th>Cost</th>\n",
       "      <th>Fulfilled</th>\n",
       "      <th>Water Access</th>\n",
       "      <th>Land Ownership</th>\n",
       "      <th>FulfilPerc</th>\n",
       "    </tr>\n",
       "  </thead>\n",
       "  <tbody>\n",
       "    <tr>\n",
       "      <th>0</th>\n",
       "      <td>10/11/2021</td>\n",
       "      <td>PBY</td>\n",
       "      <td>3166</td>\n",
       "      <td>Potatoes, Red</td>\n",
       "      <td>10</td>\n",
       "      <td>5000</td>\n",
       "      <td>0</td>\n",
       "      <td>False</td>\n",
       "      <td>False</td>\n",
       "      <td>0.0</td>\n",
       "    </tr>\n",
       "    <tr>\n",
       "      <th>1</th>\n",
       "      <td>10/11/2021</td>\n",
       "      <td>SGC</td>\n",
       "      <td>3188</td>\n",
       "      <td>Squash, Winter, Butternut</td>\n",
       "      <td>25</td>\n",
       "      <td>2465</td>\n",
       "      <td>25</td>\n",
       "      <td>NaN</td>\n",
       "      <td>NaN</td>\n",
       "      <td>1.0</td>\n",
       "    </tr>\n",
       "    <tr>\n",
       "      <th>2</th>\n",
       "      <td>10/11/2021</td>\n",
       "      <td>LXF</td>\n",
       "      <td>3613</td>\n",
       "      <td>Beets, Bulk</td>\n",
       "      <td>18</td>\n",
       "      <td>2631</td>\n",
       "      <td>18</td>\n",
       "      <td>NaN</td>\n",
       "      <td>NaN</td>\n",
       "      <td>1.0</td>\n",
       "    </tr>\n",
       "    <tr>\n",
       "      <th>3</th>\n",
       "      <td>10/11/2021</td>\n",
       "      <td>HAF</td>\n",
       "      <td>3755</td>\n",
       "      <td>Carrots, Orange Bulk</td>\n",
       "      <td>12</td>\n",
       "      <td>3162</td>\n",
       "      <td>0</td>\n",
       "      <td>False</td>\n",
       "      <td>True</td>\n",
       "      <td>0.0</td>\n",
       "    </tr>\n",
       "    <tr>\n",
       "      <th>4</th>\n",
       "      <td>10/11/2021</td>\n",
       "      <td>LXF</td>\n",
       "      <td>3132</td>\n",
       "      <td>Carrots, Rainbow Bulk</td>\n",
       "      <td>60</td>\n",
       "      <td>3162</td>\n",
       "      <td>60</td>\n",
       "      <td>NaN</td>\n",
       "      <td>NaN</td>\n",
       "      <td>1.0</td>\n",
       "    </tr>\n",
       "  </tbody>\n",
       "</table>\n",
       "</div>"
      ],
      "text/plain": [
       "  Delivery Week Producer Code  Product ID                    Product  \\\n",
       "0    10/11/2021           PBY        3166              Potatoes, Red   \n",
       "1    10/11/2021           SGC        3188  Squash, Winter, Butternut   \n",
       "2    10/11/2021           LXF        3613                Beets, Bulk   \n",
       "3    10/11/2021           HAF        3755       Carrots, Orange Bulk   \n",
       "4    10/11/2021           LXF        3132      Carrots, Rainbow Bulk   \n",
       "\n",
       "   Quantity  Cost  Fulfilled Water Access Land Ownership  FulfilPerc  \n",
       "0        10  5000          0        False          False         0.0  \n",
       "1        25  2465         25          NaN            NaN         1.0  \n",
       "2        18  2631         18          NaN            NaN         1.0  \n",
       "3        12  3162          0        False           True         0.0  \n",
       "4        60  3162         60          NaN            NaN         1.0  "
      ]
     },
     "execution_count": 146,
     "metadata": {},
     "output_type": "execute_result"
    }
   ],
   "source": [
    "data = pd.read_csv('./data/Planning_Combined.csv')\n",
    "data.head()"
   ]
  },
  {
   "cell_type": "markdown",
   "metadata": {
    "papermill": {
     "duration": 0.021175,
     "end_time": "2021-04-15T04:54:57.644756",
     "exception": false,
     "start_time": "2021-04-15T04:54:57.623581",
     "status": "completed"
    },
    "tags": []
   },
   "source": [
    "\n",
    "\n",
    "# I used the best parameters found by Bayesian optimisation in another notebook (https://www.kaggle.com/teesoong/lightgbm-with-bayes-optimization)"
   ]
  },
  {
   "cell_type": "markdown",
   "metadata": {
    "papermill": {
     "duration": 0.021227,
     "end_time": "2021-04-15T04:54:57.687335",
     "exception": false,
     "start_time": "2021-04-15T04:54:57.666108",
     "status": "completed"
    },
    "tags": []
   },
   "source": [
    "Start Data Processing"
   ]
  },
  {
   "cell_type": "markdown",
   "metadata": {
    "papermill": {
     "duration": 0.023205,
     "end_time": "2021-04-15T04:54:57.732174",
     "exception": false,
     "start_time": "2021-04-15T04:54:57.708969",
     "status": "completed"
    },
    "tags": []
   },
   "source": [
    "Start separating out the labels column"
   ]
  },
  {
   "cell_type": "code",
   "execution_count": 147,
   "metadata": {
    "execution": {
     "iopub.execute_input": "2021-04-15T04:54:57.782613Z",
     "iopub.status.busy": "2021-04-15T04:54:57.781817Z",
     "iopub.status.idle": "2021-04-15T04:54:57.818829Z",
     "shell.execute_reply": "2021-04-15T04:54:57.818260Z"
    },
    "papermill": {
     "duration": 0.064204,
     "end_time": "2021-04-15T04:54:57.819002",
     "exception": false,
     "start_time": "2021-04-15T04:54:57.754798",
     "status": "completed"
    },
    "tags": []
   },
   "outputs": [],
   "source": [
    "from sklearn.preprocessing import LabelEncoder\n",
    "labels = data['FulfilPerc']\n",
    "le = LabelEncoder()\n",
    "le.fit(labels)\n",
    "labels = le.transform(labels)\n",
    "class_names = le.classes_\n",
    "result_mapping = dict(zip(range(len(le.classes_)),le.classes_))"
   ]
  },
  {
   "cell_type": "markdown",
   "metadata": {
    "papermill": {
     "duration": 0.020373,
     "end_time": "2021-04-15T04:54:57.860690",
     "exception": false,
     "start_time": "2021-04-15T04:54:57.840317",
     "status": "completed"
    },
    "tags": []
   },
   "source": [
    "Drop the columns RowNumber, CustomerId, Surname as they are not predictive features, and remove the labels column"
   ]
  },
  {
   "cell_type": "code",
   "execution_count": 148,
   "metadata": {
    "execution": {
     "iopub.execute_input": "2021-04-15T04:54:57.912082Z",
     "iopub.status.busy": "2021-04-15T04:54:57.911106Z",
     "iopub.status.idle": "2021-04-15T04:54:57.927830Z",
     "shell.execute_reply": "2021-04-15T04:54:57.927178Z"
    },
    "papermill": {
     "duration": 0.045121,
     "end_time": "2021-04-15T04:54:57.927971",
     "exception": false,
     "start_time": "2021-04-15T04:54:57.882850",
     "status": "completed"
    },
    "tags": []
   },
   "outputs": [
    {
     "data": {
      "text/html": [
       "<div>\n",
       "<style scoped>\n",
       "    .dataframe tbody tr th:only-of-type {\n",
       "        vertical-align: middle;\n",
       "    }\n",
       "\n",
       "    .dataframe tbody tr th {\n",
       "        vertical-align: top;\n",
       "    }\n",
       "\n",
       "    .dataframe thead th {\n",
       "        text-align: right;\n",
       "    }\n",
       "</style>\n",
       "<table border=\"1\" class=\"dataframe\">\n",
       "  <thead>\n",
       "    <tr style=\"text-align: right;\">\n",
       "      <th></th>\n",
       "      <th>Producer Code</th>\n",
       "      <th>Product ID</th>\n",
       "      <th>Quantity</th>\n",
       "      <th>Cost</th>\n",
       "      <th>Water Access</th>\n",
       "      <th>Land Ownership</th>\n",
       "    </tr>\n",
       "  </thead>\n",
       "  <tbody>\n",
       "    <tr>\n",
       "      <th>0</th>\n",
       "      <td>PBY</td>\n",
       "      <td>3166</td>\n",
       "      <td>10</td>\n",
       "      <td>5000</td>\n",
       "      <td>False</td>\n",
       "      <td>False</td>\n",
       "    </tr>\n",
       "    <tr>\n",
       "      <th>1</th>\n",
       "      <td>SGC</td>\n",
       "      <td>3188</td>\n",
       "      <td>25</td>\n",
       "      <td>2465</td>\n",
       "      <td>NaN</td>\n",
       "      <td>NaN</td>\n",
       "    </tr>\n",
       "    <tr>\n",
       "      <th>2</th>\n",
       "      <td>LXF</td>\n",
       "      <td>3613</td>\n",
       "      <td>18</td>\n",
       "      <td>2631</td>\n",
       "      <td>NaN</td>\n",
       "      <td>NaN</td>\n",
       "    </tr>\n",
       "    <tr>\n",
       "      <th>3</th>\n",
       "      <td>HAF</td>\n",
       "      <td>3755</td>\n",
       "      <td>12</td>\n",
       "      <td>3162</td>\n",
       "      <td>False</td>\n",
       "      <td>True</td>\n",
       "    </tr>\n",
       "    <tr>\n",
       "      <th>4</th>\n",
       "      <td>LXF</td>\n",
       "      <td>3132</td>\n",
       "      <td>60</td>\n",
       "      <td>3162</td>\n",
       "      <td>NaN</td>\n",
       "      <td>NaN</td>\n",
       "    </tr>\n",
       "  </tbody>\n",
       "</table>\n",
       "</div>"
      ],
      "text/plain": [
       "  Producer Code  Product ID  Quantity  Cost Water Access Land Ownership\n",
       "0           PBY        3166        10  5000        False          False\n",
       "1           SGC        3188        25  2465          NaN            NaN\n",
       "2           LXF        3613        18  2631          NaN            NaN\n",
       "3           HAF        3755        12  3162        False           True\n",
       "4           LXF        3132        60  3162          NaN            NaN"
      ]
     },
     "execution_count": 148,
     "metadata": {},
     "output_type": "execute_result"
    }
   ],
   "source": [
    "data = data.drop(['Delivery Week','Product','Fulfilled','FulfilPerc'], axis = 1) \n",
    "data.head()"
   ]
  },
  {
   "cell_type": "code",
   "execution_count": 149,
   "metadata": {
    "execution": {
     "iopub.execute_input": "2021-04-15T04:54:57.976610Z",
     "iopub.status.busy": "2021-04-15T04:54:57.975928Z",
     "iopub.status.idle": "2021-04-15T04:54:57.979578Z",
     "shell.execute_reply": "2021-04-15T04:54:57.980127Z"
    },
    "papermill": {
     "duration": 0.031002,
     "end_time": "2021-04-15T04:54:57.980330",
     "exception": false,
     "start_time": "2021-04-15T04:54:57.949328",
     "status": "completed"
    },
    "tags": []
   },
   "outputs": [],
   "source": [
    "feature_names = data.columns.tolist()"
   ]
  },
  {
   "cell_type": "markdown",
   "metadata": {
    "papermill": {
     "duration": 0.021077,
     "end_time": "2021-04-15T04:54:58.022951",
     "exception": false,
     "start_time": "2021-04-15T04:54:58.001874",
     "status": "completed"
    },
    "tags": []
   },
   "source": [
    "Explicitly define the categorical features, we need this for LIME.\n",
    "Categorical data: Geography, Gender, HasCrCard, IsActiveMember."
   ]
  },
  {
   "cell_type": "code",
   "execution_count": 150,
   "metadata": {
    "execution": {
     "iopub.execute_input": "2021-04-15T04:54:58.070871Z",
     "iopub.status.busy": "2021-04-15T04:54:58.069891Z",
     "iopub.status.idle": "2021-04-15T04:54:58.085702Z",
     "shell.execute_reply": "2021-04-15T04:54:58.086302Z"
    },
    "papermill": {
     "duration": 0.042265,
     "end_time": "2021-04-15T04:54:58.086517",
     "exception": false,
     "start_time": "2021-04-15T04:54:58.044252",
     "status": "completed"
    },
    "tags": []
   },
   "outputs": [
    {
     "name": "stderr",
     "output_type": "stream",
     "text": [
      "C:\\Users\\Kanis\\AppData\\Local\\Temp\\ipykernel_14900\\2141837928.py:7: DeprecationWarning: In a future version, `df.iloc[:, i] = newvals` will attempt to set the values inplace instead of always setting a new array. To retain the old behavior, use either `df[df.columns[i]] = newvals` or, if columns are non-unique, `df.isetitem(i, newvals)`\n",
      "  data.iloc[:, feature] = le.transform(column)\n",
      "C:\\Users\\Kanis\\AppData\\Local\\Temp\\ipykernel_14900\\2141837928.py:7: DeprecationWarning: In a future version, `df.iloc[:, i] = newvals` will attempt to set the values inplace instead of always setting a new array. To retain the old behavior, use either `df[df.columns[i]] = newvals` or, if columns are non-unique, `df.isetitem(i, newvals)`\n",
      "  data.iloc[:, feature] = le.transform(column)\n",
      "C:\\Users\\Kanis\\AppData\\Local\\Temp\\ipykernel_14900\\2141837928.py:7: DeprecationWarning: In a future version, `df.iloc[:, i] = newvals` will attempt to set the values inplace instead of always setting a new array. To retain the old behavior, use either `df[df.columns[i]] = newvals` or, if columns are non-unique, `df.isetitem(i, newvals)`\n",
      "  data.iloc[:, feature] = le.transform(column)\n"
     ]
    }
   ],
   "source": [
    "categorical_features = [0,1,4,5]\n",
    "categorical_names = {}\n",
    "for feature in categorical_features:\n",
    "    column = data.iloc[:,feature].values\n",
    "    le = LabelEncoder()\n",
    "    le.fit(column)\n",
    "    data.iloc[:, feature] = le.transform(column)\n",
    "    categorical_names[feature] = le.classes_"
   ]
  },
  {
   "cell_type": "code",
   "execution_count": 151,
   "metadata": {
    "execution": {
     "iopub.execute_input": "2021-04-15T04:54:58.135412Z",
     "iopub.status.busy": "2021-04-15T04:54:58.134685Z",
     "iopub.status.idle": "2021-04-15T04:54:58.152494Z",
     "shell.execute_reply": "2021-04-15T04:54:58.151892Z"
    },
    "papermill": {
     "duration": 0.043084,
     "end_time": "2021-04-15T04:54:58.152671",
     "exception": false,
     "start_time": "2021-04-15T04:54:58.109587",
     "status": "completed"
    },
    "tags": []
   },
   "outputs": [
    {
     "data": {
      "text/html": [
       "<div>\n",
       "<style scoped>\n",
       "    .dataframe tbody tr th:only-of-type {\n",
       "        vertical-align: middle;\n",
       "    }\n",
       "\n",
       "    .dataframe tbody tr th {\n",
       "        vertical-align: top;\n",
       "    }\n",
       "\n",
       "    .dataframe thead th {\n",
       "        text-align: right;\n",
       "    }\n",
       "</style>\n",
       "<table border=\"1\" class=\"dataframe\">\n",
       "  <thead>\n",
       "    <tr style=\"text-align: right;\">\n",
       "      <th></th>\n",
       "      <th>Producer Code</th>\n",
       "      <th>Product ID</th>\n",
       "      <th>Quantity</th>\n",
       "      <th>Cost</th>\n",
       "      <th>Water Access</th>\n",
       "      <th>Land Ownership</th>\n",
       "    </tr>\n",
       "  </thead>\n",
       "  <tbody>\n",
       "    <tr>\n",
       "      <th>0</th>\n",
       "      <td>37</td>\n",
       "      <td>7</td>\n",
       "      <td>10</td>\n",
       "      <td>5000</td>\n",
       "      <td>0</td>\n",
       "      <td>0</td>\n",
       "    </tr>\n",
       "    <tr>\n",
       "      <th>1</th>\n",
       "      <td>43</td>\n",
       "      <td>12</td>\n",
       "      <td>25</td>\n",
       "      <td>2465</td>\n",
       "      <td>2</td>\n",
       "      <td>2</td>\n",
       "    </tr>\n",
       "    <tr>\n",
       "      <th>2</th>\n",
       "      <td>27</td>\n",
       "      <td>33</td>\n",
       "      <td>18</td>\n",
       "      <td>2631</td>\n",
       "      <td>2</td>\n",
       "      <td>2</td>\n",
       "    </tr>\n",
       "    <tr>\n",
       "      <th>3</th>\n",
       "      <td>14</td>\n",
       "      <td>39</td>\n",
       "      <td>12</td>\n",
       "      <td>3162</td>\n",
       "      <td>0</td>\n",
       "      <td>1</td>\n",
       "    </tr>\n",
       "    <tr>\n",
       "      <th>4</th>\n",
       "      <td>27</td>\n",
       "      <td>4</td>\n",
       "      <td>60</td>\n",
       "      <td>3162</td>\n",
       "      <td>2</td>\n",
       "      <td>2</td>\n",
       "    </tr>\n",
       "    <tr>\n",
       "      <th>5</th>\n",
       "      <td>27</td>\n",
       "      <td>4</td>\n",
       "      <td>40</td>\n",
       "      <td>3162</td>\n",
       "      <td>2</td>\n",
       "      <td>2</td>\n",
       "    </tr>\n",
       "    <tr>\n",
       "      <th>6</th>\n",
       "      <td>35</td>\n",
       "      <td>32</td>\n",
       "      <td>30</td>\n",
       "      <td>3145</td>\n",
       "      <td>0</td>\n",
       "      <td>0</td>\n",
       "    </tr>\n",
       "    <tr>\n",
       "      <th>7</th>\n",
       "      <td>20</td>\n",
       "      <td>32</td>\n",
       "      <td>20</td>\n",
       "      <td>3145</td>\n",
       "      <td>0</td>\n",
       "      <td>0</td>\n",
       "    </tr>\n",
       "    <tr>\n",
       "      <th>8</th>\n",
       "      <td>50</td>\n",
       "      <td>39</td>\n",
       "      <td>15</td>\n",
       "      <td>3162</td>\n",
       "      <td>1</td>\n",
       "      <td>0</td>\n",
       "    </tr>\n",
       "    <tr>\n",
       "      <th>9</th>\n",
       "      <td>31</td>\n",
       "      <td>7</td>\n",
       "      <td>10</td>\n",
       "      <td>5000</td>\n",
       "      <td>2</td>\n",
       "      <td>2</td>\n",
       "    </tr>\n",
       "  </tbody>\n",
       "</table>\n",
       "</div>"
      ],
      "text/plain": [
       "   Producer Code  Product ID  Quantity  Cost  Water Access  Land Ownership\n",
       "0             37           7        10  5000             0               0\n",
       "1             43          12        25  2465             2               2\n",
       "2             27          33        18  2631             2               2\n",
       "3             14          39        12  3162             0               1\n",
       "4             27           4        60  3162             2               2\n",
       "5             27           4        40  3162             2               2\n",
       "6             35          32        30  3145             0               0\n",
       "7             20          32        20  3145             0               0\n",
       "8             50          39        15  3162             1               0\n",
       "9             31           7        10  5000             2               2"
      ]
     },
     "execution_count": 151,
     "metadata": {},
     "output_type": "execute_result"
    }
   ],
   "source": [
    "prod_code_map = {'AFC': 0, 'AGF': 1, 'BXF': 2, 'CAL': 3, 'CBO': 4, 'CBS': 5, 'CHO': 6, 'CLP': 7, 'CMA': 8, 'CMU': 9, 'CTH': 10, 'CVP': 11, 'D2D': 12, 'DTF': 13, 'HAF': 14, 'HOP': 15, 'JWI': 16, 'KAL': 17, 'KHF': 18, 'KLF': 19, 'KSL': 20, 'LDX': 21, 'LEE': 22, 'LFF': 23, 'LKW': 24, 'LOF': 25, 'LVO': 26, 'LXF': 27, 'MFP': 28, 'MHA': 29, 'MHG': 30, 'MKV': 31, 'MLG': 32, 'MLP': 33, 'MMO': 34, 'NTN': 35, 'ONC': 36, 'PBY': 37, 'PLT': 38, 'POG': 39, 'PZM': 40, 'RSV': 41, 'SEE': 42, 'SGC': 43, 'SRF': 44, 'SXF': 45, 'TEB': 46, 'TXI': 47, 'UNK': 48, 'WKH': 49, 'YMF': 50}\n",
    "prod_id_map = {3079: 0, 3089: 1, 3091: 2, 3099: 3, 3132: 4, 3138: 5, 3153: 6, 3166: 7, 3171: 8, 3178: 9, 3182: 10, 3184: 11, 3188: 12, 3189: 13, 3200: 14, 3201: 15, 3202: 16, 3216: 17, 3266: 18, 3278: 19, 3304: 20, 3326: 21, 3361: 22, 3362: 23, 3364: 24, 3401: 25, 3404: 26, 3405: 27, 3449: 28, 3458: 29, 3539: 30, 3573: 31, 3592: 32, 3613: 33, 3668: 34, 3669: 35, 3702: 36, 3717: 37, 3754: 38, 3755: 39, 3758: 40, 3759: 41, 3775: 42, 3806: 43, 3807: 44, 3809: 45, 3813: 46, 3826: 47, 3828: 48, 3853: 49, 3854: 50, 9997: 51, 9998: 52, 9999: 53}\n",
    "\n",
    "data.head(10)"
   ]
  },
  {
   "cell_type": "code",
   "execution_count": 152,
   "metadata": {
    "execution": {
     "iopub.execute_input": "2021-04-15T04:54:58.212121Z",
     "iopub.status.busy": "2021-04-15T04:54:58.210890Z",
     "iopub.status.idle": "2021-04-15T04:54:58.236000Z",
     "shell.execute_reply": "2021-04-15T04:54:58.237011Z"
    },
    "papermill": {
     "duration": 0.061689,
     "end_time": "2021-04-15T04:54:58.237317",
     "exception": false,
     "start_time": "2021-04-15T04:54:58.175628",
     "status": "completed"
    },
    "tags": []
   },
   "outputs": [
    {
     "name": "stdout",
     "output_type": "stream",
     "text": [
      "<class 'pandas.core.frame.DataFrame'>\n",
      "RangeIndex: 1592 entries, 0 to 1591\n",
      "Data columns (total 6 columns):\n",
      " #   Column          Non-Null Count  Dtype\n",
      "---  ------          --------------  -----\n",
      " 0   Producer Code   1592 non-null   int32\n",
      " 1   Product ID      1592 non-null   int64\n",
      " 2   Quantity        1592 non-null   int64\n",
      " 3   Cost            1592 non-null   int64\n",
      " 4   Water Access    1592 non-null   int32\n",
      " 5   Land Ownership  1592 non-null   int32\n",
      "dtypes: int32(3), int64(3)\n",
      "memory usage: 56.1 KB\n"
     ]
    }
   ],
   "source": [
    "\n",
    "data.info()"
   ]
  },
  {
   "cell_type": "markdown",
   "metadata": {
    "papermill": {
     "duration": 0.036345,
     "end_time": "2021-04-15T04:54:58.306760",
     "exception": false,
     "start_time": "2021-04-15T04:54:58.270415",
     "status": "completed"
    },
    "tags": []
   },
   "source": [
    "Ok..now the dataframe has all data as integers/floats, so we are ready to start training the LightGBM classifier!"
   ]
  },
  {
   "cell_type": "code",
   "execution_count": 153,
   "metadata": {
    "execution": {
     "iopub.execute_input": "2021-04-15T04:54:58.364116Z",
     "iopub.status.busy": "2021-04-15T04:54:58.363129Z",
     "iopub.status.idle": "2021-04-15T04:54:58.448497Z",
     "shell.execute_reply": "2021-04-15T04:54:58.447724Z"
    },
    "papermill": {
     "duration": 0.113555,
     "end_time": "2021-04-15T04:54:58.448671",
     "exception": false,
     "start_time": "2021-04-15T04:54:58.335116",
     "status": "completed"
    },
    "tags": []
   },
   "outputs": [
    {
     "name": "stdout",
     "output_type": "stream",
     "text": [
      "(1273, 6) (319, 6) (1273,) (1592,)\n"
     ]
    }
   ],
   "source": [
    "seed = 101 # fix random seed for reproducibility\n",
    "np.random.seed(seed)\n",
    "\n",
    "# Split Train Test sets\n",
    "from sklearn.model_selection import train_test_split\n",
    "train, test, labels_train, labels_test = train_test_split(data, labels, \n",
    "                                                    test_size=0.2,\n",
    "                                                    random_state=seed)\n",
    "print(train.shape, test.shape, labels_train.shape, labels.shape)"
   ]
  },
  {
   "cell_type": "code",
   "execution_count": 154,
   "metadata": {
    "execution": {
     "iopub.execute_input": "2021-04-15T04:54:58.503326Z",
     "iopub.status.busy": "2021-04-15T04:54:58.502510Z",
     "iopub.status.idle": "2021-04-15T04:54:58.901697Z",
     "shell.execute_reply": "2021-04-15T04:54:58.900829Z"
    },
    "papermill": {
     "duration": 0.429073,
     "end_time": "2021-04-15T04:54:58.901860",
     "exception": false,
     "start_time": "2021-04-15T04:54:58.472787",
     "status": "completed"
    },
    "tags": []
   },
   "outputs": [
    {
     "name": "stderr",
     "output_type": "stream",
     "text": [
      "c:\\Users\\Kanis\\goodaly\\packages\\backend\\venv\\Lib\\site-packages\\lightgbm\\basic.py:2065: UserWarning: Using categorical_feature in Dataset.\n",
      "  _log_warning('Using categorical_feature in Dataset.')\n"
     ]
    },
    {
     "data": {
      "text/html": [
       "<style>#sk-container-id-7 {color: black;background-color: white;}#sk-container-id-7 pre{padding: 0;}#sk-container-id-7 div.sk-toggleable {background-color: white;}#sk-container-id-7 label.sk-toggleable__label {cursor: pointer;display: block;width: 100%;margin-bottom: 0;padding: 0.3em;box-sizing: border-box;text-align: center;}#sk-container-id-7 label.sk-toggleable__label-arrow:before {content: \"▸\";float: left;margin-right: 0.25em;color: #696969;}#sk-container-id-7 label.sk-toggleable__label-arrow:hover:before {color: black;}#sk-container-id-7 div.sk-estimator:hover label.sk-toggleable__label-arrow:before {color: black;}#sk-container-id-7 div.sk-toggleable__content {max-height: 0;max-width: 0;overflow: hidden;text-align: left;background-color: #f0f8ff;}#sk-container-id-7 div.sk-toggleable__content pre {margin: 0.2em;color: black;border-radius: 0.25em;background-color: #f0f8ff;}#sk-container-id-7 input.sk-toggleable__control:checked~div.sk-toggleable__content {max-height: 200px;max-width: 100%;overflow: auto;}#sk-container-id-7 input.sk-toggleable__control:checked~label.sk-toggleable__label-arrow:before {content: \"▾\";}#sk-container-id-7 div.sk-estimator input.sk-toggleable__control:checked~label.sk-toggleable__label {background-color: #d4ebff;}#sk-container-id-7 div.sk-label input.sk-toggleable__control:checked~label.sk-toggleable__label {background-color: #d4ebff;}#sk-container-id-7 input.sk-hidden--visually {border: 0;clip: rect(1px 1px 1px 1px);clip: rect(1px, 1px, 1px, 1px);height: 1px;margin: -1px;overflow: hidden;padding: 0;position: absolute;width: 1px;}#sk-container-id-7 div.sk-estimator {font-family: monospace;background-color: #f0f8ff;border: 1px dotted black;border-radius: 0.25em;box-sizing: border-box;margin-bottom: 0.5em;}#sk-container-id-7 div.sk-estimator:hover {background-color: #d4ebff;}#sk-container-id-7 div.sk-parallel-item::after {content: \"\";width: 100%;border-bottom: 1px solid gray;flex-grow: 1;}#sk-container-id-7 div.sk-label:hover label.sk-toggleable__label {background-color: #d4ebff;}#sk-container-id-7 div.sk-serial::before {content: \"\";position: absolute;border-left: 1px solid gray;box-sizing: border-box;top: 0;bottom: 0;left: 50%;z-index: 0;}#sk-container-id-7 div.sk-serial {display: flex;flex-direction: column;align-items: center;background-color: white;padding-right: 0.2em;padding-left: 0.2em;position: relative;}#sk-container-id-7 div.sk-item {position: relative;z-index: 1;}#sk-container-id-7 div.sk-parallel {display: flex;align-items: stretch;justify-content: center;background-color: white;position: relative;}#sk-container-id-7 div.sk-item::before, #sk-container-id-7 div.sk-parallel-item::before {content: \"\";position: absolute;border-left: 1px solid gray;box-sizing: border-box;top: 0;bottom: 0;left: 50%;z-index: -1;}#sk-container-id-7 div.sk-parallel-item {display: flex;flex-direction: column;z-index: 1;position: relative;background-color: white;}#sk-container-id-7 div.sk-parallel-item:first-child::after {align-self: flex-end;width: 50%;}#sk-container-id-7 div.sk-parallel-item:last-child::after {align-self: flex-start;width: 50%;}#sk-container-id-7 div.sk-parallel-item:only-child::after {width: 0;}#sk-container-id-7 div.sk-dashed-wrapped {border: 1px dashed gray;margin: 0 0.4em 0.5em 0.4em;box-sizing: border-box;padding-bottom: 0.4em;background-color: white;}#sk-container-id-7 div.sk-label label {font-family: monospace;font-weight: bold;display: inline-block;line-height: 1.2em;}#sk-container-id-7 div.sk-label-container {text-align: center;}#sk-container-id-7 div.sk-container {/* jupyter's `normalize.less` sets `[hidden] { display: none; }` but bootstrap.min.css set `[hidden] { display: none !important; }` so we also need the `!important` here to be able to override the default hidden behavior on the sphinx rendered scikit-learn.org. See: https://github.com/scikit-learn/scikit-learn/issues/21755 */display: inline-block !important;position: relative;}#sk-container-id-7 div.sk-text-repr-fallback {display: none;}</style><div id=\"sk-container-id-7\" class=\"sk-top-container\"><div class=\"sk-text-repr-fallback\"><pre>LGBMClassifier(colsample_bytree=0.69, is_unbalance=&#x27;true&#x27;, max_depth=3,\n",
       "               n_estimators=116, num_leaves=15, objective=&#x27;multiclass&#x27;,\n",
       "               random_state=101, subsample=0.74)</pre><b>In a Jupyter environment, please rerun this cell to show the HTML representation or trust the notebook. <br />On GitHub, the HTML representation is unable to render, please try loading this page with nbviewer.org.</b></div><div class=\"sk-container\" hidden><div class=\"sk-item\"><div class=\"sk-estimator sk-toggleable\"><input class=\"sk-toggleable__control sk-hidden--visually\" id=\"sk-estimator-id-7\" type=\"checkbox\" checked><label for=\"sk-estimator-id-7\" class=\"sk-toggleable__label sk-toggleable__label-arrow\">LGBMClassifier</label><div class=\"sk-toggleable__content\"><pre>LGBMClassifier(colsample_bytree=0.69, is_unbalance=&#x27;true&#x27;, max_depth=3,\n",
       "               n_estimators=116, num_leaves=15, objective=&#x27;multiclass&#x27;,\n",
       "               random_state=101, subsample=0.74)</pre></div></div></div></div></div>"
      ],
      "text/plain": [
       "LGBMClassifier(colsample_bytree=0.69, is_unbalance='true', max_depth=3,\n",
       "               n_estimators=116, num_leaves=15, objective='multiclass',\n",
       "               random_state=101, subsample=0.74)"
      ]
     },
     "execution_count": 154,
     "metadata": {},
     "output_type": "execute_result"
    }
   ],
   "source": [
    "import lightgbm as lgb\n",
    "gbtree = lgb.LGBMClassifier(learning_rate=0.10, n_estimators=116, num_leaves= 9, max_depth=3, subsample=0.74, colsample_bytree=0.69, objective = 'multiclass', is_unbalance = 'true', random_state=seed)\n",
    "gbtree.fit(train, labels_train, categorical_feature=categorical_features)"
   ]
  },
  {
   "cell_type": "code",
   "execution_count": 155,
   "metadata": {
    "execution": {
     "iopub.execute_input": "2021-04-15T04:54:58.962556Z",
     "iopub.status.busy": "2021-04-15T04:54:58.961509Z",
     "iopub.status.idle": "2021-04-15T04:54:58.973439Z",
     "shell.execute_reply": "2021-04-15T04:54:58.974071Z"
    },
    "papermill": {
     "duration": 0.047718,
     "end_time": "2021-04-15T04:54:58.974376",
     "exception": false,
     "start_time": "2021-04-15T04:54:58.926658",
     "status": "completed"
    },
    "tags": []
   },
   "outputs": [
    {
     "name": "stdout",
     "output_type": "stream",
     "text": [
      "[[ 0 60  0  0 60  0 60  0 60  0  0 60 60  0 60 60  0  0 60 60]\n",
      " [ 0 60 60  0 60  0  0 60 44 31  0 60 60 60 60 60  0 16 60 60]]\n"
     ]
    }
   ],
   "source": [
    "y_preds = gbtree.predict(test)\n",
    "print(np.vstack((y_preds[:20],labels_test[:20])))"
   ]
  },
  {
   "cell_type": "code",
   "execution_count": 156,
   "metadata": {
    "execution": {
     "iopub.execute_input": "2021-04-15T04:54:59.041398Z",
     "iopub.status.busy": "2021-04-15T04:54:59.040598Z",
     "iopub.status.idle": "2021-04-15T04:54:59.044598Z",
     "shell.execute_reply": "2021-04-15T04:54:59.043912Z"
    },
    "papermill": {
     "duration": 0.040161,
     "end_time": "2021-04-15T04:54:59.044771",
     "exception": false,
     "start_time": "2021-04-15T04:54:59.004610",
     "status": "completed"
    },
    "tags": []
   },
   "outputs": [],
   "source": [
    "from sklearn.metrics import accuracy_score,confusion_matrix,classification_report\n",
    "def model_evaluate(): \n",
    "    \n",
    "    print('Test Accuracy:\\t{:0.1f}%'.format(accuracy_score(labels_test,y_preds)*100))\n",
    "    \n",
    "    #classification report\n",
    "    print('\\n')\n",
    "    print(classification_report(labels_test, y_preds))\n",
    "\n",
    "    #confusion matrix\n",
    "    confmat = confusion_matrix(labels_test, y_preds)\n",
    "\n",
    "    fig, ax = plt.subplots(figsize=(4, 4))\n",
    "    ax.matshow(confmat, cmap=plt.cm.Blues, alpha=0.3)\n",
    "    for i in range(confmat.shape[0]):\n",
    "        for j in range(confmat.shape[1]):\n",
    "            ax.text(x=j, y=i, s=confmat[i, j], va='center', ha='center')\n",
    "    plt.xlabel('Predicted label')\n",
    "    plt.ylabel('True label')\n",
    "    plt.tight_layout()"
   ]
  },
  {
   "cell_type": "code",
   "execution_count": 157,
   "metadata": {
    "execution": {
     "iopub.execute_input": "2021-04-15T04:54:59.102776Z",
     "iopub.status.busy": "2021-04-15T04:54:59.101886Z",
     "iopub.status.idle": "2021-04-15T04:54:59.318501Z",
     "shell.execute_reply": "2021-04-15T04:54:59.317794Z"
    },
    "papermill": {
     "duration": 0.248476,
     "end_time": "2021-04-15T04:54:59.318686",
     "exception": false,
     "start_time": "2021-04-15T04:54:59.070210",
     "status": "completed"
    },
    "tags": []
   },
   "outputs": [
    {
     "name": "stdout",
     "output_type": "stream",
     "text": [
      "Test Accuracy:\t64.9%\n",
      "\n",
      "\n",
      "              precision    recall  f1-score   support\n",
      "\n",
      "           0       0.65      0.69      0.67       142\n",
      "           4       0.00      0.00      0.00         1\n",
      "           9       0.00      0.00      0.00         2\n",
      "          10       0.00      0.00      0.00         1\n",
      "          13       0.00      0.00      0.00         1\n",
      "          16       0.00      0.00      0.00         2\n",
      "          18       0.00      0.00      0.00         1\n",
      "          22       0.00      0.00      0.00         3\n",
      "          26       0.00      0.00      0.00         1\n",
      "          31       0.00      0.00      0.00         1\n",
      "          33       0.00      0.00      0.00         1\n",
      "          34       0.00      0.00      0.00         1\n",
      "          38       0.00      0.00      0.00         1\n",
      "          39       0.00      0.00      0.00         1\n",
      "          40       0.00      0.00      0.00         1\n",
      "          42       0.00      0.00      0.00         1\n",
      "          44       0.00      0.00      0.00         1\n",
      "          47       0.00      0.00      0.00         1\n",
      "          49       0.00      0.00      0.00         2\n",
      "          51       0.00      0.00      0.00         0\n",
      "          53       0.00      0.00      0.00         1\n",
      "          55       0.00      0.00      0.00         1\n",
      "          60       0.69      0.72      0.71       152\n",
      "\n",
      "    accuracy                           0.65       319\n",
      "   macro avg       0.06      0.06      0.06       319\n",
      "weighted avg       0.62      0.65      0.63       319\n",
      "\n"
     ]
    },
    {
     "name": "stderr",
     "output_type": "stream",
     "text": [
      "c:\\Users\\Kanis\\goodaly\\packages\\backend\\venv\\Lib\\site-packages\\sklearn\\metrics\\_classification.py:1344: UndefinedMetricWarning: Precision and F-score are ill-defined and being set to 0.0 in labels with no predicted samples. Use `zero_division` parameter to control this behavior.\n",
      "  _warn_prf(average, modifier, msg_start, len(result))\n",
      "c:\\Users\\Kanis\\goodaly\\packages\\backend\\venv\\Lib\\site-packages\\sklearn\\metrics\\_classification.py:1344: UndefinedMetricWarning: Recall and F-score are ill-defined and being set to 0.0 in labels with no true samples. Use `zero_division` parameter to control this behavior.\n",
      "  _warn_prf(average, modifier, msg_start, len(result))\n",
      "c:\\Users\\Kanis\\goodaly\\packages\\backend\\venv\\Lib\\site-packages\\sklearn\\metrics\\_classification.py:1344: UndefinedMetricWarning: Precision and F-score are ill-defined and being set to 0.0 in labels with no predicted samples. Use `zero_division` parameter to control this behavior.\n",
      "  _warn_prf(average, modifier, msg_start, len(result))\n",
      "c:\\Users\\Kanis\\goodaly\\packages\\backend\\venv\\Lib\\site-packages\\sklearn\\metrics\\_classification.py:1344: UndefinedMetricWarning: Recall and F-score are ill-defined and being set to 0.0 in labels with no true samples. Use `zero_division` parameter to control this behavior.\n",
      "  _warn_prf(average, modifier, msg_start, len(result))\n",
      "c:\\Users\\Kanis\\goodaly\\packages\\backend\\venv\\Lib\\site-packages\\sklearn\\metrics\\_classification.py:1344: UndefinedMetricWarning: Precision and F-score are ill-defined and being set to 0.0 in labels with no predicted samples. Use `zero_division` parameter to control this behavior.\n",
      "  _warn_prf(average, modifier, msg_start, len(result))\n",
      "c:\\Users\\Kanis\\goodaly\\packages\\backend\\venv\\Lib\\site-packages\\sklearn\\metrics\\_classification.py:1344: UndefinedMetricWarning: Recall and F-score are ill-defined and being set to 0.0 in labels with no true samples. Use `zero_division` parameter to control this behavior.\n",
      "  _warn_prf(average, modifier, msg_start, len(result))\n"
     ]
    },
    {
     "data": {
      "image/png": "[encoded data removed]",
      "text/plain": [
       "<Figure size 400x400 with 1 Axes>"
      ]
     },
     "metadata": {},
     "output_type": "display_data"
    }
   ],
   "source": [
    "# evaluate model with test set\n",
    "model_evaluate()"
   ]
  },
  {
   "cell_type": "code",
   "execution_count": 113,
   "metadata": {},
   "outputs": [
    {
     "data": {
      "text/plain": [
       "{0: 0.0,\n",
       " 1: 0.0666666666666666,\n",
       " 2: 0.0769230769230769,\n",
       " 3: 0.0833333333333333,\n",
       " 4: 0.1,\n",
       " 5: 0.12,\n",
       " 6: 0.1333333333333333,\n",
       " 7: 0.1428571428571428,\n",
       " 8: 0.1666666666666666,\n",
       " 9: 0.2,\n",
       " 10: 0.2222222222222222,\n",
       " 11: 0.2333333333333333,\n",
       " 12: 0.24,\n",
       " 13: 0.25,\n",
       " 14: 0.2608695652173913,\n",
       " 15: 0.2727272727272727,\n",
       " 16: 0.3,\n",
       " 17: 0.32,\n",
       " 18: 0.3333333333333333,\n",
       " 19: 0.3396226415094339,\n",
       " 20: 0.3421052631578947,\n",
       " 21: 0.3666666666666666,\n",
       " 22: 0.4,\n",
       " 23: 0.4411764705882353,\n",
       " 24: 0.4615384615384615,\n",
       " 25: 0.4666666666666667,\n",
       " 26: 0.5,\n",
       " 27: 0.5333333333333333,\n",
       " 28: 0.5454545454545454,\n",
       " 29: 0.55,\n",
       " 30: 0.5666666666666667,\n",
       " 31: 0.5833333333333334,\n",
       " 32: 0.5925925925925926,\n",
       " 33: 0.6,\n",
       " 34: 0.631578947368421,\n",
       " 35: 0.6333333333333333,\n",
       " 36: 0.6363636363636364,\n",
       " 37: 0.64,\n",
       " 38: 0.65,\n",
       " 39: 0.6666666666666666,\n",
       " 40: 0.6875,\n",
       " 41: 0.7,\n",
       " 42: 0.7222222222222222,\n",
       " 43: 0.7333333333333333,\n",
       " 44: 0.75,\n",
       " 45: 0.7666666666666667,\n",
       " 46: 0.7894736842105263,\n",
       " 47: 0.8,\n",
       " 48: 0.8266666666666667,\n",
       " 49: 0.8333333333333334,\n",
       " 50: 0.8571428571428571,\n",
       " 51: 0.88,\n",
       " 52: 0.8888888888888888,\n",
       " 53: 0.9,\n",
       " 54: 0.9090909090909092,\n",
       " 55: 0.9166666666666666,\n",
       " 56: 0.9444444444444444,\n",
       " 57: 0.95,\n",
       " 58: 0.96,\n",
       " 59: 0.9666666666666668,\n",
       " 60: 1.0}"
      ]
     },
     "execution_count": 113,
     "metadata": {},
     "output_type": "execute_result"
    }
   ],
   "source": [
    "gbtree.predict([[prod_code_map.get(\"MKV\"),prod_id_map.get(3166),10,5000,2,2]])[0]\n",
    "result_mapping"
   ]
  },
  {
   "cell_type": "code",
   "execution_count": 33,
   "metadata": {
    "execution": {
     "iopub.execute_input": "2021-04-15T04:54:59.383277Z",
     "iopub.status.busy": "2021-04-15T04:54:59.382275Z",
     "iopub.status.idle": "2021-04-15T04:54:59.561630Z",
     "shell.execute_reply": "2021-04-15T04:54:59.561001Z"
    },
    "papermill": {
     "duration": 0.216697,
     "end_time": "2021-04-15T04:54:59.561803",
     "exception": false,
     "start_time": "2021-04-15T04:54:59.345106",
     "status": "completed"
    },
    "tags": []
   },
   "outputs": [
    {
     "name": "stderr",
     "output_type": "stream",
     "text": [
      "c:\\Users\\Kanis\\goodaly\\packages\\backend\\venv\\Lib\\site-packages\\sklearn\\metrics\\_ranking.py:1029: UndefinedMetricWarning: No positive samples in y_true, true positive value should be meaningless\n",
      "  warnings.warn(\n"
     ]
    },
    {
     "data": {
      "image/png": "[encoded data removed]",
      "text/plain": [
       "<Figure size 640x480 with 1 Axes>"
      ]
     },
     "metadata": {},
     "output_type": "display_data"
    }
   ],
   "source": [
    "#PLot AUC-curve\n",
    "import sklearn.metrics as metrics\n",
    "y_pred = gbtree.predict_proba(test)\n",
    "fpr, tpr, threshold = metrics.roc_curve(labels_test, y_pred[:,1])\n",
    "roc_auc = metrics.auc(fpr, tpr)\n",
    "\n",
    "# method I: plt\n",
    "import matplotlib.pyplot as plt\n",
    "plt.title('Receiver Operating Characteristic')\n",
    "plt.plot(fpr, tpr, 'b', label = 'AUC = %0.2f' % roc_auc)\n",
    "plt.legend(loc = 'lower right')\n",
    "plt.plot([0, 1], [0, 1],'r--')\n",
    "plt.xlim([0, 1])\n",
    "plt.ylim([0, 1])\n",
    "plt.ylabel('True Positive Rate')\n",
    "plt.xlabel('False Positive Rate')\n",
    "plt.show()"
   ]
  },
  {
   "cell_type": "code",
   "execution_count": 34,
   "metadata": {
    "execution": {
     "iopub.execute_input": "2021-04-15T04:54:59.640324Z",
     "iopub.status.busy": "2021-04-15T04:54:59.639496Z",
     "iopub.status.idle": "2021-04-15T04:54:59.778990Z",
     "shell.execute_reply": "2021-04-15T04:54:59.778311Z"
    },
    "papermill": {
     "duration": 0.189294,
     "end_time": "2021-04-15T04:54:59.779175",
     "exception": false,
     "start_time": "2021-04-15T04:54:59.589881",
     "status": "completed"
    },
    "tags": []
   },
   "outputs": [
    {
     "ename": "ValueError",
     "evalue": "multiclass format is not supported",
     "output_type": "error",
     "traceback": [
      "\u001b[1;31m---------------------------------------------------------------------------\u001b[0m",
      "\u001b[1;31mValueError\u001b[0m                                Traceback (most recent call last)",
      "Cell \u001b[1;32mIn[34], line 4\u001b[0m\n\u001b[0;32m      2\u001b[0m \u001b[39mfrom\u001b[39;00m \u001b[39msklearn\u001b[39;00m\u001b[39m.\u001b[39;00m\u001b[39mmetrics\u001b[39;00m \u001b[39mimport\u001b[39;00m precision_recall_curve\n\u001b[0;32m      3\u001b[0m y_pred \u001b[39m=\u001b[39m gbtree\u001b[39m.\u001b[39mpredict_proba(test)\n\u001b[1;32m----> 4\u001b[0m precision, recall, thresholds \u001b[39m=\u001b[39m precision_recall_curve(labels_test, y_pred[:,\u001b[39m1\u001b[39;49m])\n\u001b[0;32m      6\u001b[0m thresholds \u001b[39m=\u001b[39m np\u001b[39m.\u001b[39mappend(thresholds, \u001b[39m1\u001b[39m)\n\u001b[0;32m      7\u001b[0m f1_scores \u001b[39m=\u001b[39m \u001b[39m2\u001b[39m\u001b[39m*\u001b[39m(precision\u001b[39m*\u001b[39mrecall)\u001b[39m/\u001b[39m(precision\u001b[39m+\u001b[39mrecall)\n",
      "File \u001b[1;32mc:\\Users\\Kanis\\goodaly\\packages\\backend\\venv\\Lib\\site-packages\\sklearn\\metrics\\_ranking.py:878\u001b[0m, in \u001b[0;36mprecision_recall_curve\u001b[1;34m(y_true, probas_pred, pos_label, sample_weight)\u001b[0m\n\u001b[0;32m    797\u001b[0m \u001b[39mdef\u001b[39;00m \u001b[39mprecision_recall_curve\u001b[39m(y_true, probas_pred, \u001b[39m*\u001b[39m, pos_label\u001b[39m=\u001b[39m\u001b[39mNone\u001b[39;00m, sample_weight\u001b[39m=\u001b[39m\u001b[39mNone\u001b[39;00m):\n\u001b[0;32m    798\u001b[0m \u001b[39m    \u001b[39m\u001b[39m\"\"\"Compute precision-recall pairs for different probability thresholds.\u001b[39;00m\n\u001b[0;32m    799\u001b[0m \n\u001b[0;32m    800\u001b[0m \u001b[39m    Note: this implementation is restricted to the binary classification task.\u001b[39;00m\n\u001b[1;32m   (...)\u001b[0m\n\u001b[0;32m    876\u001b[0m \u001b[39m    array([0.1 , 0.35, 0.4 , 0.8 ])\u001b[39;00m\n\u001b[0;32m    877\u001b[0m \u001b[39m    \"\"\"\u001b[39;00m\n\u001b[1;32m--> 878\u001b[0m     fps, tps, thresholds \u001b[39m=\u001b[39m _binary_clf_curve(\n\u001b[0;32m    879\u001b[0m         y_true, probas_pred, pos_label\u001b[39m=\u001b[39;49mpos_label, sample_weight\u001b[39m=\u001b[39;49msample_weight\n\u001b[0;32m    880\u001b[0m     )\n\u001b[0;32m    882\u001b[0m     ps \u001b[39m=\u001b[39m tps \u001b[39m+\u001b[39m fps\n\u001b[0;32m    883\u001b[0m     \u001b[39m# Initialize the result array with zeros to make sure that precision[ps == 0]\u001b[39;00m\n\u001b[0;32m    884\u001b[0m     \u001b[39m# does not contain uninitialized values.\u001b[39;00m\n",
      "File \u001b[1;32mc:\\Users\\Kanis\\goodaly\\packages\\backend\\venv\\Lib\\site-packages\\sklearn\\metrics\\_ranking.py:749\u001b[0m, in \u001b[0;36m_binary_clf_curve\u001b[1;34m(y_true, y_score, pos_label, sample_weight)\u001b[0m\n\u001b[0;32m    747\u001b[0m y_type \u001b[39m=\u001b[39m type_of_target(y_true, input_name\u001b[39m=\u001b[39m\u001b[39m\"\u001b[39m\u001b[39my_true\u001b[39m\u001b[39m\"\u001b[39m)\n\u001b[0;32m    748\u001b[0m \u001b[39mif\u001b[39;00m \u001b[39mnot\u001b[39;00m (y_type \u001b[39m==\u001b[39m \u001b[39m\"\u001b[39m\u001b[39mbinary\u001b[39m\u001b[39m\"\u001b[39m \u001b[39mor\u001b[39;00m (y_type \u001b[39m==\u001b[39m \u001b[39m\"\u001b[39m\u001b[39mmulticlass\u001b[39m\u001b[39m\"\u001b[39m \u001b[39mand\u001b[39;00m pos_label \u001b[39mis\u001b[39;00m \u001b[39mnot\u001b[39;00m \u001b[39mNone\u001b[39;00m)):\n\u001b[1;32m--> 749\u001b[0m     \u001b[39mraise\u001b[39;00m \u001b[39mValueError\u001b[39;00m(\u001b[39m\"\u001b[39m\u001b[39m{0}\u001b[39;00m\u001b[39m format is not supported\u001b[39m\u001b[39m\"\u001b[39m\u001b[39m.\u001b[39mformat(y_type))\n\u001b[0;32m    751\u001b[0m check_consistent_length(y_true, y_score, sample_weight)\n\u001b[0;32m    752\u001b[0m y_true \u001b[39m=\u001b[39m column_or_1d(y_true)\n",
      "\u001b[1;31mValueError\u001b[0m: multiclass format is not supported"
     ]
    }
   ],
   "source": [
    "#PLot PR-curve\n",
    "from sklearn.metrics import precision_recall_curve\n",
    "y_pred = gbtree.predict_proba(test)\n",
    "precision, recall, thresholds = precision_recall_curve(labels_test, y_pred[:,1])\n",
    " \n",
    "thresholds = np.append(thresholds, 1)\n",
    "f1_scores = 2*(precision*recall)/(precision+recall)\n",
    "plt.step(recall, precision, color='b', alpha=0.4, where='post')\n",
    "plt.xlabel('Recall')\n",
    "plt.ylabel('Precision')\n",
    "plt.ylim([0.0, 1.05])\n",
    "plt.xlim([0.0, 1.0])\n",
    "plt.title('Precision-Recall curve')\n",
    "plt.show()"
   ]
  },
  {
   "cell_type": "markdown",
   "metadata": {
    "papermill": {
     "duration": 0.027814,
     "end_time": "2021-04-15T04:54:59.834766",
     "exception": false,
     "start_time": "2021-04-15T04:54:59.806952",
     "status": "completed"
    },
    "tags": []
   },
   "source": [
    "This was an imbalanced dataset where the positive cases were much lesser than the negative. Hence for the positive cases, the LightGBM model gets ~50% of the positive classification correct. There are alot of false negatives & positives."
   ]
  },
  {
   "cell_type": "markdown",
   "metadata": {
    "papermill": {
     "duration": 0.027679,
     "end_time": "2021-04-15T04:54:59.891335",
     "exception": false,
     "start_time": "2021-04-15T04:54:59.863656",
     "status": "completed"
    },
    "tags": []
   },
   "source": [
    "Let's look at the LightGBM model global importance features, we'll contrast with LIME local importance later."
   ]
  },
  {
   "cell_type": "markdown",
   "metadata": {
    "papermill": {
     "duration": 0.027426,
     "end_time": "2021-04-15T04:54:59.947096",
     "exception": false,
     "start_time": "2021-04-15T04:54:59.919670",
     "status": "completed"
    },
    "tags": []
   },
   "source": []
  },
  {
   "cell_type": "code",
   "execution_count": null,
   "metadata": {
    "execution": {
     "iopub.execute_input": "2021-04-15T04:55:00.032318Z",
     "iopub.status.busy": "2021-04-15T04:55:00.008055Z",
     "iopub.status.idle": "2021-04-15T04:55:00.242971Z",
     "shell.execute_reply": "2021-04-15T04:55:00.243530Z"
    },
    "papermill": {
     "duration": 0.268595,
     "end_time": "2021-04-15T04:55:00.243706",
     "exception": false,
     "start_time": "2021-04-15T04:54:59.975111",
     "status": "completed"
    },
    "tags": []
   },
   "outputs": [],
   "source": [
    "# Feature importance\n",
    "from lightgbm import plot_importance\n",
    "plot_importance(gbtree)"
   ]
  },
  {
   "cell_type": "markdown",
   "metadata": {
    "papermill": {
     "duration": 0.028731,
     "end_time": "2021-04-15T04:55:00.302065",
     "exception": false,
     "start_time": "2021-04-15T04:55:00.273334",
     "status": "completed"
    },
    "tags": []
   },
   "source": [
    "From a global importance level, it seems the top 3 features are Age, Balance & No. of products."
   ]
  },
  {
   "cell_type": "markdown",
   "metadata": {
    "papermill": {
     "duration": 0.028752,
     "end_time": "2021-04-15T04:55:00.360256",
     "exception": false,
     "start_time": "2021-04-15T04:55:00.331504",
     "status": "completed"
    },
    "tags": []
   },
   "source": [
    "Now, let's use LIME!!"
   ]
  },
  {
   "cell_type": "code",
   "execution_count": null,
   "metadata": {
    "execution": {
     "iopub.execute_input": "2021-04-15T04:55:00.424925Z",
     "iopub.status.busy": "2021-04-15T04:55:00.424278Z",
     "iopub.status.idle": "2021-04-15T04:55:00.680864Z",
     "shell.execute_reply": "2021-04-15T04:55:00.680179Z"
    },
    "papermill": {
     "duration": 0.291425,
     "end_time": "2021-04-15T04:55:00.681028",
     "exception": false,
     "start_time": "2021-04-15T04:55:00.389603",
     "status": "completed"
    },
    "tags": []
   },
   "outputs": [],
   "source": [
    "import lime.lime_tabular\n",
    "explainer = lime.lime_tabular.LimeTabularExplainer(train.values ,feature_names = feature_names,class_names=class_names,\n",
    "                                                   categorical_features=categorical_features, \n",
    "                                                   categorical_names=categorical_names, kernel_width=3)"
   ]
  },
  {
   "cell_type": "markdown",
   "metadata": {
    "papermill": {
     "duration": 0.029503,
     "end_time": "2021-04-15T04:55:00.740682",
     "exception": false,
     "start_time": "2021-04-15T04:55:00.711179",
     "status": "completed"
    },
    "tags": []
   },
   "source": [
    "Lime tabular needs a predict function"
   ]
  },
  {
   "cell_type": "code",
   "execution_count": null,
   "metadata": {
    "execution": {
     "iopub.execute_input": "2021-04-15T04:55:00.809440Z",
     "iopub.status.busy": "2021-04-15T04:55:00.808368Z",
     "iopub.status.idle": "2021-04-15T04:55:00.812301Z",
     "shell.execute_reply": "2021-04-15T04:55:00.811719Z"
    },
    "papermill": {
     "duration": 0.039594,
     "end_time": "2021-04-15T04:55:00.812469",
     "exception": false,
     "start_time": "2021-04-15T04:55:00.772875",
     "status": "completed"
    },
    "tags": []
   },
   "outputs": [],
   "source": [
    "predict_fn = lambda x: gbtree.predict_proba(x).astype(float)"
   ]
  },
  {
   "cell_type": "code",
   "execution_count": null,
   "metadata": {
    "execution": {
     "iopub.execute_input": "2021-04-15T04:55:00.883469Z",
     "iopub.status.busy": "2021-04-15T04:55:00.882356Z",
     "iopub.status.idle": "2021-04-15T04:55:00.887180Z",
     "shell.execute_reply": "2021-04-15T04:55:00.886299Z"
    },
    "papermill": {
     "duration": 0.04437,
     "end_time": "2021-04-15T04:55:00.887395",
     "exception": false,
     "start_time": "2021-04-15T04:55:00.843025",
     "status": "completed"
    },
    "tags": []
   },
   "outputs": [],
   "source": [
    "#Choose a local instance\n",
    "chosen = test.iloc[111]\n",
    "print(chosen)"
   ]
  },
  {
   "cell_type": "code",
   "execution_count": null,
   "metadata": {
    "execution": {
     "iopub.execute_input": "2021-04-15T04:55:00.957830Z",
     "iopub.status.busy": "2021-04-15T04:55:00.957045Z",
     "iopub.status.idle": "2021-04-15T04:55:00.960981Z",
     "shell.execute_reply": "2021-04-15T04:55:00.960327Z"
    },
    "papermill": {
     "duration": 0.04164,
     "end_time": "2021-04-15T04:55:00.961174",
     "exception": false,
     "start_time": "2021-04-15T04:55:00.919534",
     "status": "completed"
    },
    "tags": []
   },
   "outputs": [],
   "source": [
    "print('True class: %s' % class_names[labels_test[111]])"
   ]
  },
  {
   "cell_type": "code",
   "execution_count": null,
   "metadata": {
    "execution": {
     "iopub.execute_input": "2021-04-15T04:55:01.030630Z",
     "iopub.status.busy": "2021-04-15T04:55:01.029806Z",
     "iopub.status.idle": "2021-04-15T04:55:01.635423Z",
     "shell.execute_reply": "2021-04-15T04:55:01.635940Z"
    },
    "papermill": {
     "duration": 0.64353,
     "end_time": "2021-04-15T04:55:01.636137",
     "exception": false,
     "start_time": "2021-04-15T04:55:00.992607",
     "status": "completed"
    },
    "tags": []
   },
   "outputs": [],
   "source": [
    "exp = explainer.explain_instance(chosen, predict_fn,num_features=5)\n",
    "exp.show_in_notebook(show_all=False)"
   ]
  },
  {
   "cell_type": "markdown",
   "metadata": {
    "papermill": {
     "duration": 0.107562,
     "end_time": "2021-04-15T04:55:01.857077",
     "exception": false,
     "start_time": "2021-04-15T04:55:01.749515",
     "status": "completed"
    },
    "tags": []
   },
   "source": [
    "LIME predicts for this local instance, the 2 features that contribute to the classification is Age and IsActiveMember, rather than the 3 global importance features reported by LightGBM. Let's test this out, by modifying the 2 features that LIME chose "
   ]
  },
  {
   "cell_type": "code",
   "execution_count": null,
   "metadata": {
    "execution": {
     "iopub.execute_input": "2021-04-15T04:55:02.076862Z",
     "iopub.status.busy": "2021-04-15T04:55:02.076012Z",
     "iopub.status.idle": "2021-04-15T04:55:02.081824Z",
     "shell.execute_reply": "2021-04-15T04:55:02.082504Z"
    },
    "papermill": {
     "duration": 0.119957,
     "end_time": "2021-04-15T04:55:02.082679",
     "exception": false,
     "start_time": "2021-04-15T04:55:01.962722",
     "status": "completed"
    },
    "tags": []
   },
   "outputs": [],
   "source": [
    "chosen['Age'] = 40\n",
    "chosen['IsActiveMember'] = 0\n",
    "print(chosen)"
   ]
  },
  {
   "cell_type": "code",
   "execution_count": null,
   "metadata": {
    "execution": {
     "iopub.execute_input": "2021-04-15T04:55:02.305289Z",
     "iopub.status.busy": "2021-04-15T04:55:02.304186Z",
     "iopub.status.idle": "2021-04-15T04:55:02.893283Z",
     "shell.execute_reply": "2021-04-15T04:55:02.894017Z"
    },
    "papermill": {
     "duration": 0.702576,
     "end_time": "2021-04-15T04:55:02.894259",
     "exception": false,
     "start_time": "2021-04-15T04:55:02.191683",
     "status": "completed"
    },
    "tags": []
   },
   "outputs": [],
   "source": [
    "exp = explainer.explain_instance(chosen, predict_fn,num_features=5)\n",
    "exp.show_in_notebook(show_all=False)"
   ]
  },
  {
   "cell_type": "markdown",
   "metadata": {
    "papermill": {
     "duration": 0.195014,
     "end_time": "2021-04-15T04:55:03.290540",
     "exception": false,
     "start_time": "2021-04-15T04:55:03.095526",
     "status": "completed"
    },
    "tags": []
   },
   "source": [
    "Predicted class probabilities have now changed!\n"
   ]
  }
 ],
 "metadata": {
  "kernelspec": {
   "display_name": "venv",
   "language": "python",
   "name": "python3"
  },
  "language_info": {
   "codemirror_mode": {
    "name": "ipython",
    "version": 3
   },
   "file_extension": ".py",
   "mimetype": "text/x-python",
   "name": "python",
   "nbconvert_exporter": "python",
   "pygments_lexer": "ipython3",
   "version": "3.11.0"
  },
  "papermill": {
   "default_parameters": {},
   "duration": 14.475922,
   "end_time": "2021-04-15T04:55:04.195690",
   "environment_variables": {},
   "exception": null,
   "input_path": "__notebook__.ipynb",
   "output_path": "__notebook__.ipynb",
   "parameters": {},
   "start_time": "2021-04-15T04:54:49.719768",
   "version": "2.2.2"
  },
  "vscode": {
   "interpreter": {
    "hash": "96dd0e6d471a70ddaf56832ac160caec96d2981a4b5e5a41c1fcd5b44d1578d4"
   }
  }
 },
 "nbformat": 4,
 "nbformat_minor": 4
}
