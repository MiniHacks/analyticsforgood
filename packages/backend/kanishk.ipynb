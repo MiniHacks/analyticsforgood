{
 "cells": [
  {
   "cell_type": "code",
   "execution_count": 97,
   "metadata": {},
   "outputs": [
    {
     "data": {
      "text/html": [
       "<div>\n",
       "<style scoped>\n",
       "    .dataframe tbody tr th:only-of-type {\n",
       "        vertical-align: middle;\n",
       "    }\n",
       "\n",
       "    .dataframe tbody tr th {\n",
       "        vertical-align: top;\n",
       "    }\n",
       "\n",
       "    .dataframe thead th {\n",
       "        text-align: right;\n",
       "    }\n",
       "</style>\n",
       "<table border=\"1\" class=\"dataframe\">\n",
       "  <thead>\n",
       "    <tr style=\"text-align: right;\">\n",
       "      <th></th>\n",
       "      <th>Producer Code</th>\n",
       "      <th>Product ID</th>\n",
       "      <th>Quantity</th>\n",
       "      <th>Cost</th>\n",
       "      <th>Fulfilled</th>\n",
       "      <th>Water Access</th>\n",
       "      <th>Land Ownership</th>\n",
       "    </tr>\n",
       "  </thead>\n",
       "  <tbody>\n",
       "    <tr>\n",
       "      <th>0</th>\n",
       "      <td>PBY</td>\n",
       "      <td>3166</td>\n",
       "      <td>10</td>\n",
       "      <td>5000</td>\n",
       "      <td>0</td>\n",
       "      <td>False</td>\n",
       "      <td>False</td>\n",
       "    </tr>\n",
       "    <tr>\n",
       "      <th>1</th>\n",
       "      <td>SGC</td>\n",
       "      <td>3188</td>\n",
       "      <td>25</td>\n",
       "      <td>2465</td>\n",
       "      <td>25</td>\n",
       "      <td>NaN</td>\n",
       "      <td>NaN</td>\n",
       "    </tr>\n",
       "    <tr>\n",
       "      <th>2</th>\n",
       "      <td>LXF</td>\n",
       "      <td>3613</td>\n",
       "      <td>18</td>\n",
       "      <td>2631</td>\n",
       "      <td>18</td>\n",
       "      <td>NaN</td>\n",
       "      <td>NaN</td>\n",
       "    </tr>\n",
       "    <tr>\n",
       "      <th>3</th>\n",
       "      <td>HAF</td>\n",
       "      <td>3755</td>\n",
       "      <td>12</td>\n",
       "      <td>3162</td>\n",
       "      <td>0</td>\n",
       "      <td>False</td>\n",
       "      <td>True</td>\n",
       "    </tr>\n",
       "    <tr>\n",
       "      <th>4</th>\n",
       "      <td>LXF</td>\n",
       "      <td>3132</td>\n",
       "      <td>60</td>\n",
       "      <td>3162</td>\n",
       "      <td>60</td>\n",
       "      <td>NaN</td>\n",
       "      <td>NaN</td>\n",
       "    </tr>\n",
       "  </tbody>\n",
       "</table>\n",
       "</div>"
      ],
      "text/plain": [
       "  Producer Code  Product ID  Quantity  Cost  Fulfilled Water Access  \\\n",
       "0           PBY        3166        10  5000          0        False   \n",
       "1           SGC        3188        25  2465         25          NaN   \n",
       "2           LXF        3613        18  2631         18          NaN   \n",
       "3           HAF        3755        12  3162          0        False   \n",
       "4           LXF        3132        60  3162         60          NaN   \n",
       "\n",
       "  Land Ownership  \n",
       "0          False  \n",
       "1            NaN  \n",
       "2            NaN  \n",
       "3           True  \n",
       "4            NaN  "
      ]
     },
     "execution_count": 97,
     "metadata": {},
     "output_type": "execute_result"
    }
   ],
   "source": [
    "import pandas as pd\n",
    "import numpy as np\n",
    "import statsmodels.api as sm\n",
    "\n",
    "df = pd.read_csv(\"./data/Planning_Combined.csv\")\n",
    "del df[\"Product\"]\n",
    "del df[\"FulfilPerc\"]\n",
    "del df[\"Delivery Week\"]\n",
    "df.head()"
   ]
  },
  {
   "cell_type": "code",
   "execution_count": 98,
   "metadata": {},
   "outputs": [
    {
     "data": {
      "text/plain": [
       "0       False\n",
       "1         NaN\n",
       "2         NaN\n",
       "3        True\n",
       "4         NaN\n",
       "        ...  \n",
       "1587     True\n",
       "1588     True\n",
       "1589     True\n",
       "1590    False\n",
       "1591    False\n",
       "Name: Land Ownership, Length: 1592, dtype: category\n",
       "Categories (2, bool): [False, True]"
      ]
     },
     "execution_count": 98,
     "metadata": {},
     "output_type": "execute_result"
    }
   ],
   "source": [
    "df[\"Producer Code\"].astype('category')\n",
    "df[\"Product ID\"].astype('category')\n",
    "df[\"Water Access\"].astype('category')\n",
    "df[\"Land Ownership\"].astype('category')\n"
   ]
  },
  {
   "cell_type": "code",
   "execution_count": 99,
   "metadata": {},
   "outputs": [
    {
     "data": {
      "text/html": [
       "<table class=\"simpletable\">\n",
       "<caption>OLS Regression Results</caption>\n",
       "<tr>\n",
       "  <th>Dep. Variable:</th>        <td>Fulfilled</td>    <th>  R-squared:         </th> <td>   0.218</td> \n",
       "</tr>\n",
       "<tr>\n",
       "  <th>Model:</th>                   <td>OLS</td>       <th>  Adj. R-squared:    </th> <td>   0.217</td> \n",
       "</tr>\n",
       "<tr>\n",
       "  <th>Method:</th>             <td>Least Squares</td>  <th>  F-statistic:       </th> <td>   220.9</td> \n",
       "</tr>\n",
       "<tr>\n",
       "  <th>Date:</th>             <td>Sat, 04 Feb 2023</td> <th>  Prob (F-statistic):</th> <td>2.27e-85</td> \n",
       "</tr>\n",
       "<tr>\n",
       "  <th>Time:</th>                 <td>06:21:04</td>     <th>  Log-Likelihood:    </th> <td> -5832.4</td> \n",
       "</tr>\n",
       "<tr>\n",
       "  <th>No. Observations:</th>      <td>  1592</td>      <th>  AIC:               </th> <td>1.167e+04</td>\n",
       "</tr>\n",
       "<tr>\n",
       "  <th>Df Residuals:</th>          <td>  1589</td>      <th>  BIC:               </th> <td>1.169e+04</td>\n",
       "</tr>\n",
       "<tr>\n",
       "  <th>Df Model:</th>              <td>     2</td>      <th>                     </th>     <td> </td>    \n",
       "</tr>\n",
       "<tr>\n",
       "  <th>Covariance Type:</th>      <td>nonrobust</td>    <th>                     </th>     <td> </td>    \n",
       "</tr>\n",
       "</table>\n",
       "<table class=\"simpletable\">\n",
       "<tr>\n",
       "      <td></td>        <th>coef</th>     <th>std err</th>      <th>t</th>      <th>P>|t|</th>  <th>[0.025</th>    <th>0.975]</th>  \n",
       "</tr>\n",
       "<tr>\n",
       "  <th>const</th>    <td>   -0.8291</td> <td>    1.102</td> <td>   -0.752</td> <td> 0.452</td> <td>   -2.991</td> <td>    1.333</td>\n",
       "</tr>\n",
       "<tr>\n",
       "  <th>Quantity</th> <td>    0.4257</td> <td>    0.020</td> <td>   20.833</td> <td> 0.000</td> <td>    0.386</td> <td>    0.466</td>\n",
       "</tr>\n",
       "<tr>\n",
       "  <th>Cost</th>     <td>    0.0005</td> <td>    0.000</td> <td>    1.948</td> <td> 0.052</td> <td>-3.53e-06</td> <td>    0.001</td>\n",
       "</tr>\n",
       "</table>\n",
       "<table class=\"simpletable\">\n",
       "<tr>\n",
       "  <th>Omnibus:</th>       <td>106.294</td> <th>  Durbin-Watson:     </th> <td>   1.817</td>\n",
       "</tr>\n",
       "<tr>\n",
       "  <th>Prob(Omnibus):</th> <td> 0.000</td>  <th>  Jarque-Bera (JB):  </th> <td> 307.686</td>\n",
       "</tr>\n",
       "<tr>\n",
       "  <th>Skew:</th>          <td> 0.325</td>  <th>  Prob(JB):          </th> <td>1.54e-67</td>\n",
       "</tr>\n",
       "<tr>\n",
       "  <th>Kurtosis:</th>      <td> 5.053</td>  <th>  Cond. No.          </th> <td>1.76e+04</td>\n",
       "</tr>\n",
       "</table><br/><br/>Notes:<br/>[1] Standard Errors assume that the covariance matrix of the errors is correctly specified.<br/>[2] The condition number is large, 1.76e+04. This might indicate that there are<br/>strong multicollinearity or other numerical problems."
      ],
      "text/plain": [
       "<class 'statsmodels.iolib.summary.Summary'>\n",
       "\"\"\"\n",
       "                            OLS Regression Results                            \n",
       "==============================================================================\n",
       "Dep. Variable:              Fulfilled   R-squared:                       0.218\n",
       "Model:                            OLS   Adj. R-squared:                  0.217\n",
       "Method:                 Least Squares   F-statistic:                     220.9\n",
       "Date:                Sat, 04 Feb 2023   Prob (F-statistic):           2.27e-85\n",
       "Time:                        06:21:04   Log-Likelihood:                -5832.4\n",
       "No. Observations:                1592   AIC:                         1.167e+04\n",
       "Df Residuals:                    1589   BIC:                         1.169e+04\n",
       "Df Model:                           2                                         \n",
       "Covariance Type:            nonrobust                                         \n",
       "==============================================================================\n",
       "                 coef    std err          t      P>|t|      [0.025      0.975]\n",
       "------------------------------------------------------------------------------\n",
       "const         -0.8291      1.102     -0.752      0.452      -2.991       1.333\n",
       "Quantity       0.4257      0.020     20.833      0.000       0.386       0.466\n",
       "Cost           0.0005      0.000      1.948      0.052   -3.53e-06       0.001\n",
       "==============================================================================\n",
       "Omnibus:                      106.294   Durbin-Watson:                   1.817\n",
       "Prob(Omnibus):                  0.000   Jarque-Bera (JB):              307.686\n",
       "Skew:                           0.325   Prob(JB):                     1.54e-67\n",
       "Kurtosis:                       5.053   Cond. No.                     1.76e+04\n",
       "==============================================================================\n",
       "\n",
       "Notes:\n",
       "[1] Standard Errors assume that the covariance matrix of the errors is correctly specified.\n",
       "[2] The condition number is large, 1.76e+04. This might indicate that there are\n",
       "strong multicollinearity or other numerical problems.\n",
       "\"\"\""
      ]
     },
     "execution_count": 99,
     "metadata": {},
     "output_type": "execute_result"
    }
   ],
   "source": [
    "Y = df[\"Fulfilled\"]\n",
    "X = df[[\"Quantity\",\"Cost\"]]\n",
    "X = sm.add_constant(X)\n",
    "ks = sm.OLS(Y, X)\n",
    "ks_res =ks.fit()\n",
    "ks_res.summary()"
   ]
  },
  {
   "cell_type": "code",
   "execution_count": 100,
   "metadata": {},
   "outputs": [
    {
     "data": {
      "text/html": [
       "<div>\n",
       "<style scoped>\n",
       "    .dataframe tbody tr th:only-of-type {\n",
       "        vertical-align: middle;\n",
       "    }\n",
       "\n",
       "    .dataframe tbody tr th {\n",
       "        vertical-align: top;\n",
       "    }\n",
       "\n",
       "    .dataframe thead th {\n",
       "        text-align: right;\n",
       "    }\n",
       "</style>\n",
       "<table border=\"1\" class=\"dataframe\">\n",
       "  <thead>\n",
       "    <tr style=\"text-align: right;\">\n",
       "      <th></th>\n",
       "      <th>Producer Code</th>\n",
       "      <th>Product ID</th>\n",
       "      <th>Water Access</th>\n",
       "      <th>Land Ownership</th>\n",
       "      <th>Quantity</th>\n",
       "      <th>Cost</th>\n",
       "    </tr>\n",
       "  </thead>\n",
       "  <tbody>\n",
       "    <tr>\n",
       "      <th>0</th>\n",
       "      <td>37</td>\n",
       "      <td>7</td>\n",
       "      <td>0</td>\n",
       "      <td>0</td>\n",
       "      <td>10</td>\n",
       "      <td>5000</td>\n",
       "    </tr>\n",
       "    <tr>\n",
       "      <th>1</th>\n",
       "      <td>43</td>\n",
       "      <td>12</td>\n",
       "      <td>-1</td>\n",
       "      <td>-1</td>\n",
       "      <td>25</td>\n",
       "      <td>2465</td>\n",
       "    </tr>\n",
       "    <tr>\n",
       "      <th>2</th>\n",
       "      <td>27</td>\n",
       "      <td>33</td>\n",
       "      <td>-1</td>\n",
       "      <td>-1</td>\n",
       "      <td>18</td>\n",
       "      <td>2631</td>\n",
       "    </tr>\n",
       "    <tr>\n",
       "      <th>3</th>\n",
       "      <td>14</td>\n",
       "      <td>39</td>\n",
       "      <td>0</td>\n",
       "      <td>1</td>\n",
       "      <td>12</td>\n",
       "      <td>3162</td>\n",
       "    </tr>\n",
       "    <tr>\n",
       "      <th>4</th>\n",
       "      <td>27</td>\n",
       "      <td>4</td>\n",
       "      <td>-1</td>\n",
       "      <td>-1</td>\n",
       "      <td>60</td>\n",
       "      <td>3162</td>\n",
       "    </tr>\n",
       "  </tbody>\n",
       "</table>\n",
       "</div>"
      ],
      "text/plain": [
       "   Producer Code  Product ID  Water Access  Land Ownership  Quantity  Cost\n",
       "0             37           7             0               0        10  5000\n",
       "1             43          12            -1              -1        25  2465\n",
       "2             27          33            -1              -1        18  2631\n",
       "3             14          39             0               1        12  3162\n",
       "4             27           4            -1              -1        60  3162"
      ]
     },
     "execution_count": 100,
     "metadata": {},
     "output_type": "execute_result"
    }
   ],
   "source": [
    "from sklearn.preprocessing import OrdinalEncoder\n",
    "enc = OrdinalEncoder(handle_unknown=\"use_encoded_value\",unknown_value=-1, encoded_missing_value=-1)\n",
    "df = df[[\"Producer Code\",\"Product ID\",\"Water Access\",\"Land Ownership\",\"Quantity\",\"Cost\"]]\n",
    "df[[\"Producer Code\",\"Product ID\",\"Water Access\",\"Land Ownership\"]] = enc.fit_transform(df[[\"Producer Code\",\"Product ID\",\"Water Access\",\"Land Ownership\"]]).astype(int)\n",
    "df.head()"
   ]
  },
  {
   "cell_type": "code",
   "execution_count": 101,
   "metadata": {},
   "outputs": [
    {
     "data": {
      "text/plain": [
       "5.7240649327023885"
      ]
     },
     "execution_count": 101,
     "metadata": {},
     "output_type": "execute_result"
    }
   ],
   "source": [
    "from sklearn.ensemble import RandomForestRegressor\n",
    "from sklearn.model_selection import train_test_split\n",
    "from sklearn.metrics import mean_absolute_error\n",
    "Xfull = df[[\"Producer Code\",\"Product ID\",\"Water Access\",\"Land Ownership\",\"Quantity\",\"Cost\"]]\n",
    "train_X, val_X, train_y, val_y = train_test_split(Xfull, Y, random_state = 0)\n",
    "model = RandomForestRegressor(random_state=0)\n",
    "model.fit(train_X, train_y)\n",
    "preds_val = model.predict(val_X)\n",
    "mae = mean_absolute_error(val_y, preds_val)\n",
    "mae"
   ]
  },
  {
   "cell_type": "code",
   "execution_count": 107,
   "metadata": {},
   "outputs": [
    {
     "name": "stdout",
     "output_type": "stream",
     "text": [
      "[0.0125]\n"
     ]
    },
    {
     "name": "stderr",
     "output_type": "stream",
     "text": [
      "c:\\Users\\Kanis\\goodaly\\packages\\backend\\venv\\Lib\\site-packages\\sklearn\\base.py:420: UserWarning: X does not have valid feature names, but OrdinalEncoder was fitted with feature names\n",
      "  warnings.warn(\n",
      "c:\\Users\\Kanis\\goodaly\\packages\\backend\\venv\\Lib\\site-packages\\sklearn\\base.py:420: UserWarning: X does not have valid feature names, but RandomForestRegressor was fitted with feature names\n",
      "  warnings.warn(\n"
     ]
    }
   ],
   "source": [
    "def predictor(prod_code, prod_id, water, land,quantity, cost):\n",
    "    data = np.append(enc.transform([[prod_code,prod_id,water,land]])[0],[quantity,cost])\n",
    "    print(model.predict([data]))\n",
    "\n",
    "predictor(\"PBY\",3166,0,0,10,5000)"
   ]
  }
 ],
 "metadata": {
  "kernelspec": {
   "display_name": "venv",
   "language": "python",
   "name": "python3"
  },
  "language_info": {
   "codemirror_mode": {
    "name": "ipython",
    "version": 3
   },
   "file_extension": ".py",
   "mimetype": "text/x-python",
   "name": "python",
   "nbconvert_exporter": "python",
   "pygments_lexer": "ipython3",
   "version": "3.11.0"
  },
  "orig_nbformat": 4,
  "vscode": {
   "interpreter": {
    "hash": "96dd0e6d471a70ddaf56832ac160caec96d2981a4b5e5a41c1fcd5b44d1578d4"
   }
  }
 },
 "nbformat": 4,
 "nbformat_minor": 2
}
